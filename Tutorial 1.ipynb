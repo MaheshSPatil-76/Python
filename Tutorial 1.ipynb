{
 "cells": [
  {
   "cell_type": "markdown",
   "id": "3cccf14a",
   "metadata": {},
   "source": [
    "# Basics of python\n",
    "\n",
    "- various datatypes\n",
    "- variables\n",
    "- variable assignment\n",
    "- print formatting"
   ]
  },
  {
   "cell_type": "code",
   "execution_count": 2,
   "id": "ba01b9fd",
   "metadata": {},
   "outputs": [
    {
     "data": {
      "text/plain": [
       "4"
      ]
     },
     "execution_count": 2,
     "metadata": {},
     "output_type": "execute_result"
    }
   ],
   "source": [
    "2+2"
   ]
  },
  {
   "cell_type": "code",
   "execution_count": 3,
   "id": "3ca55596",
   "metadata": {},
   "outputs": [
    {
     "data": {
      "text/plain": [
       "10"
      ]
     },
     "execution_count": 3,
     "metadata": {},
     "output_type": "execute_result"
    }
   ],
   "source": [
    "5*2"
   ]
  },
  {
   "cell_type": "code",
   "execution_count": 4,
   "id": "eef4251c",
   "metadata": {},
   "outputs": [
    {
     "data": {
      "text/plain": [
       "2.5"
      ]
     },
     "execution_count": 4,
     "metadata": {},
     "output_type": "execute_result"
    }
   ],
   "source": [
    "5/2"
   ]
  },
  {
   "cell_type": "code",
   "execution_count": 5,
   "id": "2aeb2bae",
   "metadata": {},
   "outputs": [
    {
     "data": {
      "text/plain": [
       "2"
      ]
     },
     "execution_count": 5,
     "metadata": {},
     "output_type": "execute_result"
    }
   ],
   "source": [
    "int(5/2)"
   ]
  },
  {
   "cell_type": "code",
   "execution_count": 6,
   "id": "23e95eaf",
   "metadata": {},
   "outputs": [
    {
     "data": {
      "text/plain": [
       "1"
      ]
     },
     "execution_count": 6,
     "metadata": {},
     "output_type": "execute_result"
    }
   ],
   "source": [
    "5%2"
   ]
  },
  {
   "cell_type": "code",
   "execution_count": 8,
   "id": "fd392114",
   "metadata": {},
   "outputs": [
    {
     "data": {
      "text/plain": [
       "25"
      ]
     },
     "execution_count": 8,
     "metadata": {},
     "output_type": "execute_result"
    }
   ],
   "source": [
    "5**2"
   ]
  },
  {
   "cell_type": "code",
   "execution_count": 9,
   "id": "0dcec8dd",
   "metadata": {},
   "outputs": [
    {
     "data": {
      "text/plain": [
       "'MSP MSP MSP MSP MSP '"
      ]
     },
     "execution_count": 9,
     "metadata": {},
     "output_type": "execute_result"
    }
   ],
   "source": [
    "5*'MSP '"
   ]
  },
  {
   "cell_type": "code",
   "execution_count": 10,
   "id": "5bb303b8",
   "metadata": {},
   "outputs": [
    {
     "data": {
      "text/plain": [
       "('M', 'S', 'P', 'M', 'S', 'P', 'M', 'S', 'P', 'M', 'S', 'P', 'M', 'S', 'P')"
      ]
     },
     "execution_count": 10,
     "metadata": {},
     "output_type": "execute_result"
    }
   ],
   "source": [
    "5*('M','S','P')"
   ]
  },
  {
   "cell_type": "code",
   "execution_count": 21,
   "id": "d2ad84ca",
   "metadata": {},
   "outputs": [
    {
     "name": "stdout",
     "output_type": "stream",
     "text": [
      "<class 'int'> <class 'float'> <class 'complex'> <class 'str'>\n"
     ]
    }
   ],
   "source": [
    "a=5\n",
    "b=5.6\n",
    "c=5j\n",
    "d=\"msp\"\n",
    "print(str(type(a))+\" \"+str(type(b))+\" \"+str(type(c))+\" \"+str(type(d)))"
   ]
  },
  {
   "cell_type": "code",
   "execution_count": 22,
   "id": "d4f4ea7b",
   "metadata": {},
   "outputs": [
    {
     "name": "stdout",
     "output_type": "stream",
     "text": [
      "5\n"
     ]
    }
   ],
   "source": [
    "print(a)"
   ]
  },
  {
   "cell_type": "code",
   "execution_count": 23,
   "id": "6da2fee5",
   "metadata": {},
   "outputs": [
    {
     "name": "stdout",
     "output_type": "stream",
     "text": [
      "value of a is 5 and of b is 5.6\n"
     ]
    }
   ],
   "source": [
    "print(\"value of a is {} and of b is {}\".format(a,b))"
   ]
  },
  {
   "cell_type": "code",
   "execution_count": 24,
   "id": "bb204dd7",
   "metadata": {},
   "outputs": [
    {
     "name": "stdout",
     "output_type": "stream",
     "text": [
      "value of a is 5 and of b is 5.6\n"
     ]
    }
   ],
   "source": [
    "print(\"value of a is {a} and of b is {b}\".format(b=b,a=a))"
   ]
  },
  {
   "cell_type": "code",
   "execution_count": 26,
   "id": "e6e69147",
   "metadata": {
    "scrolled": true
   },
   "outputs": [
    {
     "name": "stdout",
     "output_type": "stream",
     "text": [
      "9.464285714285715\n"
     ]
    }
   ],
   "source": [
    "print((a+b)*(a/ b))"
   ]
  },
  {
   "cell_type": "code",
   "execution_count": 27,
   "id": "c01115f3",
   "metadata": {},
   "outputs": [
    {
     "name": "stdout",
     "output_type": "stream",
     "text": [
      "Parthi Parthi Parthi Parthi Parthi \n"
     ]
    }
   ],
   "source": [
    "print(5*\"Parthi \")"
   ]
  },
  {
   "cell_type": "code",
   "execution_count": 28,
   "id": "6da8a80f",
   "metadata": {},
   "outputs": [
    {
     "data": {
      "text/plain": [
       "6"
      ]
     },
     "execution_count": 28,
     "metadata": {},
     "output_type": "execute_result"
    }
   ],
   "source": [
    "len(\"Parthi\")"
   ]
  },
  {
   "cell_type": "code",
   "execution_count": 29,
   "id": "46319697",
   "metadata": {},
   "outputs": [
    {
     "data": {
      "text/plain": [
       "30"
      ]
     },
     "execution_count": 29,
     "metadata": {},
     "output_type": "execute_result"
    }
   ],
   "source": [
    "len(5*\"Parthi\")"
   ]
  },
  {
   "cell_type": "code",
   "execution_count": 30,
   "id": "55235285",
   "metadata": {},
   "outputs": [
    {
     "data": {
      "text/plain": [
       "list"
      ]
     },
     "execution_count": 30,
     "metadata": {},
     "output_type": "execute_result"
    }
   ],
   "source": [
    "type(['1',2,3,4,5])"
   ]
  },
  {
   "cell_type": "code",
   "execution_count": 31,
   "id": "c82f39ca",
   "metadata": {},
   "outputs": [
    {
     "data": {
      "text/plain": [
       "tuple"
      ]
     },
     "execution_count": 31,
     "metadata": {},
     "output_type": "execute_result"
    }
   ],
   "source": [
    "type((1,2,'3'))"
   ]
  },
  {
   "cell_type": "code",
   "execution_count": 33,
   "id": "a0c3684c",
   "metadata": {},
   "outputs": [
    {
     "data": {
      "text/plain": [
       "set"
      ]
     },
     "execution_count": 33,
     "metadata": {},
     "output_type": "execute_result"
    }
   ],
   "source": [
    "type({1,2,3,\"a\"})"
   ]
  },
  {
   "cell_type": "code",
   "execution_count": 37,
   "id": "4b80560e",
   "metadata": {},
   "outputs": [
    {
     "data": {
      "text/plain": [
       "dict"
      ]
     },
     "execution_count": 37,
     "metadata": {},
     "output_type": "execute_result"
    }
   ],
   "source": [
    "type({\"A\":\"arnav\",\"B\":\"Bhargav\"})"
   ]
  },
  {
   "cell_type": "code",
   "execution_count": 41,
   "id": "c4c5d32c",
   "metadata": {},
   "outputs": [
    {
     "name": "stdout",
     "output_type": "stream",
     "text": [
      "MSP\n"
     ]
    }
   ],
   "source": [
    "def myfun():\n",
    "    a=\"MS\"\n",
    "    b=\"P\"\n",
    "    return a+b\n",
    "print(myfun())"
   ]
  }
 ],
 "metadata": {
  "kernelspec": {
   "display_name": "Python 3 (ipykernel)",
   "language": "python",
   "name": "python3"
  },
  "language_info": {
   "codemirror_mode": {
    "name": "ipython",
    "version": 3
   },
   "file_extension": ".py",
   "mimetype": "text/x-python",
   "name": "python",
   "nbconvert_exporter": "python",
   "pygments_lexer": "ipython3",
   "version": "3.11.5"
  }
 },
 "nbformat": 4,
 "nbformat_minor": 5
}

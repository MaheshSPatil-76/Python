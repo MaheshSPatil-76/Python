{
 "cells": [
  {
   "cell_type": "markdown",
   "id": "11c75289",
   "metadata": {},
   "source": [
    "# Python Data types and Boolean\n",
    "\n",
    "- Numeric Types : int, float, complex\n",
    "- Boolean \n",
    "- Boolean and logical opearators\n",
    "- Lists\n",
    "- Comparison operators\n",
    "- Dictionaries\n",
    "- Tuples\n",
    "- Sets"
   ]
  },
  {
   "cell_type": "code",
   "execution_count": 1,
   "id": "1b050902",
   "metadata": {},
   "outputs": [
    {
     "name": "stdout",
     "output_type": "stream",
     "text": [
      "<class 'int'>\n",
      "<class 'float'>\n",
      "<class 'str'>\n"
     ]
    }
   ],
   "source": [
    "a=10   #int\n",
    "b=10.5 #float\n",
    "c=\"MSP\"#str\n",
    "print(type(a))\n",
    "print(type(b))\n",
    "print(type(c))"
   ]
  },
  {
   "cell_type": "code",
   "execution_count": 2,
   "id": "c0f8144e",
   "metadata": {},
   "outputs": [
    {
     "data": {
      "text/plain": [
       "True"
      ]
     },
     "execution_count": 2,
     "metadata": {},
     "output_type": "execute_result"
    }
   ],
   "source": [
    "True #bool"
   ]
  },
  {
   "cell_type": "code",
   "execution_count": 4,
   "id": "50e5f077",
   "metadata": {},
   "outputs": [
    {
     "data": {
      "text/plain": [
       "False"
      ]
     },
     "execution_count": 4,
     "metadata": {},
     "output_type": "execute_result"
    }
   ],
   "source": [
    "False"
   ]
  },
  {
   "cell_type": "code",
   "execution_count": 18,
   "id": "212c44a7",
   "metadata": {},
   "outputs": [
    {
     "name": "stdout",
     "output_type": "stream",
     "text": [
      "3\n"
     ]
    }
   ],
   "source": [
    "str=\"  MSP \"  \n",
    "str=str.strip()  #strip removes leading and trailing whitespaces from a string\n",
    "print(len(str))"
   ]
  },
  {
   "cell_type": "code",
   "execution_count": 40,
   "id": "d0360201",
   "metadata": {},
   "outputs": [
    {
     "name": "stdout",
     "output_type": "stream",
     "text": [
      "True\n",
      "False\n",
      "True\n",
      "False\n",
      "False\n",
      "False\n",
      "True\n",
      "True\n"
     ]
    }
   ],
   "source": [
    "#after str. press tab to view all possible in built functions\n",
    "#to view function details just press shift+tab\n",
    "str=\"1234\"\n",
    "print(str.isalnum()) #Return True if the string is an alpha-numeric string, False otherwise.\n",
    "print(str.isalpha()) #Return True if the string is an alphabetic string, False otherwise.\n",
    "print(str.isdigit()) #Return True if the string is a digit string, False otherwise.\n",
    "print(str.isupper()) #Return True if the string is an uppercase string, False otherwise.\n",
    "print(str.islower()) #Return True if the string is a lowercase string, False otherwise.\n",
    "print(str.isspace()) #Return True if the string is a whitespace string, False otherwise.\n",
    "print(str.endswith('4'))#Return True if S ends with the specified suffix, False otherwise.\n",
    "print(str.startswith('1'))#Return True if S starts with the specified prefix, False otherwise."
   ]
  },
  {
   "cell_type": "markdown",
   "id": "46fad673",
   "metadata": {},
   "source": [
    "## Boolean and Logic operators"
   ]
  },
  {
   "cell_type": "code",
   "execution_count": 41,
   "id": "c93d1ce6",
   "metadata": {},
   "outputs": [
    {
     "data": {
      "text/plain": [
       "True"
      ]
     },
     "execution_count": 41,
     "metadata": {},
     "output_type": "execute_result"
    }
   ],
   "source": [
    "True and True"
   ]
  },
  {
   "cell_type": "code",
   "execution_count": 42,
   "id": "14142e69",
   "metadata": {},
   "outputs": [
    {
     "data": {
      "text/plain": [
       "False"
      ]
     },
     "execution_count": 42,
     "metadata": {},
     "output_type": "execute_result"
    }
   ],
   "source": [
    "True and False"
   ]
  },
  {
   "cell_type": "code",
   "execution_count": 43,
   "id": "c87bdc98",
   "metadata": {},
   "outputs": [
    {
     "data": {
      "text/plain": [
       "True"
      ]
     },
     "execution_count": 43,
     "metadata": {},
     "output_type": "execute_result"
    }
   ],
   "source": [
    "True or True"
   ]
  },
  {
   "cell_type": "code",
   "execution_count": 44,
   "id": "90b9cf0a",
   "metadata": {},
   "outputs": [
    {
     "data": {
      "text/plain": [
       "True"
      ]
     },
     "execution_count": 44,
     "metadata": {},
     "output_type": "execute_result"
    }
   ],
   "source": [
    "True or False"
   ]
  },
  {
   "cell_type": "code",
   "execution_count": 47,
   "id": "d17fc5ed",
   "metadata": {},
   "outputs": [
    {
     "name": "stdout",
     "output_type": "stream",
     "text": [
      "True\n",
      "False\n"
     ]
    }
   ],
   "source": [
    "a=\"abc\"\n",
    "b=\"123\"\n",
    "print(a.isdigit() or b.isdigit())\n",
    "print(a.isdigit() and b.isdigit())"
   ]
  },
  {
   "cell_type": "markdown",
   "id": "34fc2d14",
   "metadata": {},
   "source": [
    "## Lists\n"
   ]
  },
  {
   "cell_type": "code",
   "execution_count": null,
   "id": "256646e2",
   "metadata": {},
   "outputs": [],
   "source": []
  }
 ],
 "metadata": {
  "kernelspec": {
   "display_name": "Python 3 (ipykernel)",
   "language": "python",
   "name": "python3"
  },
  "language_info": {
   "codemirror_mode": {
    "name": "ipython",
    "version": 3
   },
   "file_extension": ".py",
   "mimetype": "text/x-python",
   "name": "python",
   "nbconvert_exporter": "python",
   "pygments_lexer": "ipython3",
   "version": "3.11.5"
  }
 },
 "nbformat": 4,
 "nbformat_minor": 5
}

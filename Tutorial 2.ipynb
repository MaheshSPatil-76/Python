{
 "cells": [
  {
   "cell_type": "markdown",
   "id": "5ceac839",
   "metadata": {},
   "source": [
    "# Python Data types and Boolean\n",
    "\n",
    "- Numeric Types : int, float, complex\n",
    "- Boolean \n",
    "- Boolean and logical opearators\n",
    "- Lists\n",
    "- Comparison operators\n",
    "- Dictionaries\n",
    "- Tuples\n",
    "- Sets"
   ]
  },
  {
   "cell_type": "code",
   "execution_count": 1,
   "id": "b6d8ebf5",
   "metadata": {},
   "outputs": [
    {
     "name": "stdout",
     "output_type": "stream",
     "text": [
      "<class 'int'>\n",
      "<class 'float'>\n",
      "<class 'str'>\n"
     ]
    }
   ],
   "source": [
    "a=10   #int\n",
    "b=10.5 #float\n",
    "c=\"MSP\"#str\n",
    "print(type(a))\n",
    "print(type(b))\n",
    "print(type(c))"
   ]
  },
  {
   "cell_type": "code",
   "execution_count": 2,
   "id": "77a9c078",
   "metadata": {},
   "outputs": [
    {
     "data": {
      "text/plain": [
       "True"
      ]
     },
     "execution_count": 2,
     "metadata": {},
     "output_type": "execute_result"
    }
   ],
   "source": [
    "True #bool"
   ]
  },
  {
   "cell_type": "code",
   "execution_count": 3,
   "id": "e77f5c18",
   "metadata": {},
   "outputs": [
    {
     "data": {
      "text/plain": [
       "False"
      ]
     },
     "execution_count": 3,
     "metadata": {},
     "output_type": "execute_result"
    }
   ],
   "source": [
    "False"
   ]
  },
  {
   "cell_type": "code",
   "execution_count": 4,
   "id": "9d005c5b",
   "metadata": {},
   "outputs": [
    {
     "name": "stdout",
     "output_type": "stream",
     "text": [
      "3\n"
     ]
    }
   ],
   "source": [
    "str=\"  MSP \"  \n",
    "str=str.strip()  #strip removes leading and trailing whitespaces from a string\n",
    "print(len(str))"
   ]
  },
  {
   "cell_type": "code",
   "execution_count": 5,
   "id": "97e4ab62",
   "metadata": {},
   "outputs": [
    {
     "name": "stdout",
     "output_type": "stream",
     "text": [
      "True\n",
      "False\n",
      "True\n",
      "False\n",
      "False\n",
      "False\n",
      "True\n",
      "True\n"
     ]
    }
   ],
   "source": [
    "#after str. press tab to view all possible in built functions\n",
    "#to view function details just press shift+tab\n",
    "str=\"1234\"\n",
    "print(str.isalnum()) #Return True if the string is an alpha-numeric string, False otherwise.\n",
    "print(str.isalpha()) #Return True if the string is an alphabetic string, False otherwise.\n",
    "print(str.isdigit()) #Return True if the string is a digit string, False otherwise.\n",
    "print(str.isupper()) #Return True if the string is an uppercase string, False otherwise.\n",
    "print(str.islower()) #Return True if the string is a lowercase string, False otherwise.\n",
    "print(str.isspace()) #Return True if the string is a whitespace string, False otherwise.\n",
    "print(str.endswith('4'))#Return True if S ends with the specified suffix, False otherwise.\n",
    "print(str.startswith('1'))#Return True if S starts with the specified prefix, False otherwise."
   ]
  },
  {
   "cell_type": "markdown",
   "id": "b9d3c65c",
   "metadata": {},
   "source": [
    "## Boolean and Logic operators"
   ]
  },
  {
   "cell_type": "code",
   "execution_count": 6,
   "id": "95895daf",
   "metadata": {},
   "outputs": [
    {
     "data": {
      "text/plain": [
       "True"
      ]
     },
     "execution_count": 6,
     "metadata": {},
     "output_type": "execute_result"
    }
   ],
   "source": [
    "True and True"
   ]
  },
  {
   "cell_type": "code",
   "execution_count": 7,
   "id": "5b0eda1a",
   "metadata": {},
   "outputs": [
    {
     "data": {
      "text/plain": [
       "False"
      ]
     },
     "execution_count": 7,
     "metadata": {},
     "output_type": "execute_result"
    }
   ],
   "source": [
    "True and False"
   ]
  },
  {
   "cell_type": "code",
   "execution_count": 8,
   "id": "fff29567",
   "metadata": {},
   "outputs": [
    {
     "data": {
      "text/plain": [
       "True"
      ]
     },
     "execution_count": 8,
     "metadata": {},
     "output_type": "execute_result"
    }
   ],
   "source": [
    "True or True"
   ]
  },
  {
   "cell_type": "code",
   "execution_count": 9,
   "id": "914d1d7b",
   "metadata": {},
   "outputs": [
    {
     "data": {
      "text/plain": [
       "True"
      ]
     },
     "execution_count": 9,
     "metadata": {},
     "output_type": "execute_result"
    }
   ],
   "source": [
    "True or False"
   ]
  },
  {
   "cell_type": "code",
   "execution_count": 10,
   "id": "33a22cf0",
   "metadata": {},
   "outputs": [
    {
     "name": "stdout",
     "output_type": "stream",
     "text": [
      "True\n",
      "False\n"
     ]
    }
   ],
   "source": [
    "a=\"abc\"\n",
    "b=\"123\"\n",
    "print(a.isdigit() or b.isdigit())\n",
    "print(a.isdigit() and b.isdigit())"
   ]
  },
  {
   "cell_type": "markdown",
   "id": "950b58d9",
   "metadata": {},
   "source": [
    "## Lists\n",
    "\n",
    "mutabe changeable data structure in python \n",
    "Values / items between [  ]"
   ]
  },
  {
   "cell_type": "code",
   "execution_count": 11,
   "id": "7c4f9a71",
   "metadata": {},
   "outputs": [],
   "source": [
    "a=[]"
   ]
  },
  {
   "cell_type": "code",
   "execution_count": 12,
   "id": "4a01b5aa",
   "metadata": {},
   "outputs": [
    {
     "data": {
      "text/plain": [
       "list"
      ]
     },
     "execution_count": 12,
     "metadata": {},
     "output_type": "execute_result"
    }
   ],
   "source": [
    "type(a)"
   ]
  },
  {
   "cell_type": "code",
   "execution_count": 13,
   "id": "1ba096ac",
   "metadata": {},
   "outputs": [
    {
     "data": {
      "text/plain": [
       "list"
      ]
     },
     "execution_count": 13,
     "metadata": {},
     "output_type": "execute_result"
    }
   ],
   "source": [
    "b=[]\n",
    "type(b)"
   ]
  },
  {
   "cell_type": "code",
   "execution_count": 14,
   "id": "81ea53ea",
   "metadata": {},
   "outputs": [
    {
     "data": {
      "text/plain": [
       "list"
      ]
     },
     "execution_count": 14,
     "metadata": {},
     "output_type": "execute_result"
    }
   ],
   "source": [
    "type([])"
   ]
  },
  {
   "cell_type": "code",
   "execution_count": 15,
   "id": "2ac52454",
   "metadata": {},
   "outputs": [
    {
     "data": {
      "text/plain": [
       "list"
      ]
     },
     "execution_count": 15,
     "metadata": {},
     "output_type": "execute_result"
    }
   ],
   "source": [
    "c=list()\n",
    "type(c)"
   ]
  },
  {
   "cell_type": "code",
   "execution_count": 16,
   "id": "f7fc235e",
   "metadata": {},
   "outputs": [
    {
     "data": {
      "text/plain": [
       "6"
      ]
     },
     "execution_count": 16,
     "metadata": {},
     "output_type": "execute_result"
    }
   ],
   "source": [
    "c=[\"Maths\",\"Physics\",\"Chem\",200,100,100]\n",
    "len(c)"
   ]
  },
  {
   "cell_type": "markdown",
   "id": "0862f30e",
   "metadata": {},
   "source": [
    "## Append"
   ]
  },
  {
   "cell_type": "code",
   "execution_count": 17,
   "id": "b46e8521",
   "metadata": {},
   "outputs": [
    {
     "name": "stdout",
     "output_type": "stream",
     "text": [
      "['Maths', 'Physics', 'Chem', 200, 100, 100, 'English']\n"
     ]
    }
   ],
   "source": [
    "c.append(\"English\") #Append object to the end of the list.\n",
    "d=c\n",
    "print(d)"
   ]
  },
  {
   "cell_type": "code",
   "execution_count": 18,
   "id": "7d6ae23d",
   "metadata": {},
   "outputs": [
    {
     "name": "stdout",
     "output_type": "stream",
     "text": [
      "['Maths', 'Physics', 'Chem', 200, 100, 100, 'English', ['John', 'Benjamin', 'Stokes']]\n"
     ]
    }
   ],
   "source": [
    "c.append([\"John\",\"Benjamin\",\"Stokes\"]) # nested dictionary\n",
    "print(c)"
   ]
  },
  {
   "cell_type": "markdown",
   "id": "10a9f344",
   "metadata": {},
   "source": [
    "## Count"
   ]
  },
  {
   "cell_type": "code",
   "execution_count": 19,
   "id": "7471e216",
   "metadata": {},
   "outputs": [
    {
     "data": {
      "text/plain": [
       "2"
      ]
     },
     "execution_count": 19,
     "metadata": {},
     "output_type": "execute_result"
    }
   ],
   "source": [
    "c.count(100) #Return number of occurrences of value.\n"
   ]
  },
  {
   "cell_type": "code",
   "execution_count": 20,
   "id": "01b6b656",
   "metadata": {},
   "outputs": [
    {
     "data": {
      "text/plain": [
       "1"
      ]
     },
     "execution_count": 20,
     "metadata": {},
     "output_type": "execute_result"
    }
   ],
   "source": [
    "c.count('Maths')"
   ]
  },
  {
   "cell_type": "markdown",
   "id": "b313d829",
   "metadata": {},
   "source": [
    "## Extend"
   ]
  },
  {
   "cell_type": "code",
   "execution_count": 21,
   "id": "8c2933ce",
   "metadata": {},
   "outputs": [
    {
     "name": "stdout",
     "output_type": "stream",
     "text": [
      "['Maths', 'Physics', 'Chem', 200, 100, 100, 'English', ['John', 'Benjamin', 'Stokes'], 'Anni', 'Binni']\n"
     ]
    }
   ],
   "source": [
    "e=[\"Anni\",\"Binni\"]\n",
    "c.extend(e)  #Extend list by appending elements from the iterable.\n",
    "print(c)"
   ]
  },
  {
   "cell_type": "markdown",
   "id": "da03d191",
   "metadata": {},
   "source": [
    "## Insert"
   ]
  },
  {
   "cell_type": "code",
   "execution_count": 22,
   "id": "74077588",
   "metadata": {},
   "outputs": [
    {
     "name": "stdout",
     "output_type": "stream",
     "text": [
      "['Maths', 'Anna', 'Physics', 'Chem', 200, 100, 100, 'English', ['John', 'Benjamin', 'Stokes'], 'Anni', 'Binni']\n"
     ]
    }
   ],
   "source": [
    "c.insert(1,\"Anna\") #Insert object before index.\n",
    "print(c)"
   ]
  },
  {
   "cell_type": "code",
   "execution_count": 23,
   "id": "b11c7179",
   "metadata": {},
   "outputs": [
    {
     "name": "stdout",
     "output_type": "stream",
     "text": [
      "Maths Anna\n"
     ]
    }
   ],
   "source": [
    "print(c[0]+\" \"+c[1]) #indexing"
   ]
  },
  {
   "cell_type": "code",
   "execution_count": 24,
   "id": "da337cdc",
   "metadata": {},
   "outputs": [
    {
     "name": "stdout",
     "output_type": "stream",
     "text": [
      "Binni Anni\n"
     ]
    }
   ],
   "source": [
    "print(c[-1]+\" \"+c[-2]) #-ve indexing"
   ]
  },
  {
   "cell_type": "code",
   "execution_count": 25,
   "id": "d351399a",
   "metadata": {},
   "outputs": [
    {
     "name": "stdout",
     "output_type": "stream",
     "text": [
      "['Maths', 'Anna', 'Physics', 'Chem', 200, 100, 100, 'English', ['John', 'Benjamin', 'Stokes'], 'Anni', 'Binni']\n",
      "['Maths', 'Anna', 'Physics', 'Chem']\n",
      "[100, 100, 'English', ['John', 'Benjamin', 'Stokes'], 'Anni', 'Binni']\n",
      "['Anna']\n",
      "[]\n"
     ]
    }
   ],
   "source": [
    "print(c[:]) #indexing range of values [:] means all values\n",
    "print(c[:4]) # Basically first index is included and last is excluded\n",
    "print(c[5:])\n",
    "print(c[1:2])\n",
    "print(c[1:1])"
   ]
  },
  {
   "cell_type": "markdown",
   "id": "f85b7ce1",
   "metadata": {},
   "source": [
    "## Various operations that can be performed on list"
   ]
  },
  {
   "cell_type": "code",
   "execution_count": 54,
   "id": "0910269a",
   "metadata": {},
   "outputs": [
    {
     "data": {
      "text/plain": [
       "15"
      ]
     },
     "execution_count": 54,
     "metadata": {},
     "output_type": "execute_result"
    }
   ],
   "source": [
    "lst=[1,2,3,4,5]\n",
    "sum(lst)"
   ]
  },
  {
   "cell_type": "code",
   "execution_count": 55,
   "id": "6ad781ed",
   "metadata": {},
   "outputs": [
    {
     "data": {
      "text/plain": [
       "5"
      ]
     },
     "execution_count": 55,
     "metadata": {},
     "output_type": "execute_result"
    }
   ],
   "source": [
    "lst.pop()"
   ]
  },
  {
   "cell_type": "code",
   "execution_count": 56,
   "id": "5a2d8e9e",
   "metadata": {},
   "outputs": [
    {
     "data": {
      "text/plain": [
       "[1, 2, 3, 4]"
      ]
     },
     "execution_count": 56,
     "metadata": {},
     "output_type": "execute_result"
    }
   ],
   "source": [
    "lst"
   ]
  },
  {
   "cell_type": "code",
   "execution_count": 57,
   "id": "037ea496",
   "metadata": {},
   "outputs": [
    {
     "data": {
      "text/plain": [
       "4"
      ]
     },
     "execution_count": 57,
     "metadata": {},
     "output_type": "execute_result"
    }
   ],
   "source": [
    "len(lst)"
   ]
  },
  {
   "cell_type": "code",
   "execution_count": 58,
   "id": "99231eb8",
   "metadata": {},
   "outputs": [
    {
     "data": {
      "text/plain": [
       "0"
      ]
     },
     "execution_count": 58,
     "metadata": {},
     "output_type": "execute_result"
    }
   ],
   "source": [
    "#index\n",
    "lst.index(1) #Return first index of value."
   ]
  },
  {
   "cell_type": "code",
   "execution_count": 59,
   "id": "396ff9ec",
   "metadata": {},
   "outputs": [
    {
     "data": {
      "text/plain": [
       "4"
      ]
     },
     "execution_count": 59,
     "metadata": {},
     "output_type": "execute_result"
    }
   ],
   "source": [
    "lst.append(1)\n",
    "lst.index(1,2,5)"
   ]
  },
  {
   "cell_type": "code",
   "execution_count": 60,
   "id": "ab7a9292",
   "metadata": {},
   "outputs": [
    {
     "data": {
      "text/plain": [
       "[1, 4, 3, 2, 1]"
      ]
     },
     "execution_count": 60,
     "metadata": {},
     "output_type": "execute_result"
    }
   ],
   "source": [
    "lst.reverse()\n",
    "lst"
   ]
  },
  {
   "cell_type": "code",
   "execution_count": 61,
   "id": "aeb8e1c1",
   "metadata": {},
   "outputs": [
    {
     "data": {
      "text/plain": [
       "[4, 3, 2, 1]"
      ]
     },
     "execution_count": 61,
     "metadata": {},
     "output_type": "execute_result"
    }
   ],
   "source": [
    "lst.remove(1) #Remove first occurrence of value.\n",
    "lst"
   ]
  },
  {
   "cell_type": "code",
   "execution_count": 62,
   "id": "666b788b",
   "metadata": {},
   "outputs": [
    {
     "data": {
      "text/plain": [
       "1"
      ]
     },
     "execution_count": 62,
     "metadata": {},
     "output_type": "execute_result"
    }
   ],
   "source": [
    "min(lst)"
   ]
  },
  {
   "cell_type": "code",
   "execution_count": 63,
   "id": "8fcb4cd1",
   "metadata": {},
   "outputs": [
    {
     "data": {
      "text/plain": [
       "4"
      ]
     },
     "execution_count": 63,
     "metadata": {},
     "output_type": "execute_result"
    }
   ],
   "source": [
    "max(lst)"
   ]
  },
  {
   "cell_type": "code",
   "execution_count": 64,
   "id": "9d19a6a6",
   "metadata": {},
   "outputs": [
    {
     "data": {
      "text/plain": [
       "[4, 3, 2, 1, 4, 3, 2, 1]"
      ]
     },
     "execution_count": 64,
     "metadata": {},
     "output_type": "execute_result"
    }
   ],
   "source": [
    "lst*2"
   ]
  },
  {
   "cell_type": "markdown",
   "id": "9d41294a",
   "metadata": {},
   "source": [
    "## Sets { }\n",
    "\n",
    "- unordered collection of data types that is iterable, mutable\n",
    "- Has no duplicate values\n",
    "- Python's set class represents the mathematical notion of the set\n",
    "- Base on Hash table"
   ]
  },
  {
   "cell_type": "code",
   "execution_count": 30,
   "id": "8652b5e4",
   "metadata": {},
   "outputs": [
    {
     "name": "stdout",
     "output_type": "stream",
     "text": [
      "set()\n",
      "<class 'set'>\n"
     ]
    }
   ],
   "source": [
    "# defining a set\n",
    "st = set()\n",
    "print(st)\n",
    "print(type(st))"
   ]
  },
  {
   "cell_type": "code",
   "execution_count": 31,
   "id": "a94b5a9b",
   "metadata": {},
   "outputs": [
    {
     "data": {
      "text/plain": [
       "{1, 2, 3, 4}"
      ]
     },
     "execution_count": 31,
     "metadata": {},
     "output_type": "execute_result"
    }
   ],
   "source": [
    "st={1,2,3,4,3} # no duplicate\n",
    "st"
   ]
  },
  {
   "cell_type": "code",
   "execution_count": 32,
   "id": "e7a28e46",
   "metadata": {},
   "outputs": [
    {
     "name": "stdout",
     "output_type": "stream",
     "text": [
      "{'Ambati', 'MSD', 'Rutu', 'Devon'}\n",
      "<class 'set'>\n"
     ]
    }
   ],
   "source": [
    "st2={\"MSD\",\"Ambati\",\"Rutu\",\"Devon\"}\n",
    "print(st2)\n",
    "print(type(st2))"
   ]
  },
  {
   "cell_type": "code",
   "execution_count": 33,
   "id": "60b7be70",
   "metadata": {},
   "outputs": [
    {
     "name": "stdout",
     "output_type": "stream",
     "text": [
      "Ambati MSD Rutu Devon "
     ]
    }
   ],
   "source": [
    "for _ in st2:\n",
    "    print(_,end=' ')"
   ]
  },
  {
   "cell_type": "code",
   "execution_count": 34,
   "id": "cd57abbd",
   "metadata": {},
   "outputs": [
    {
     "name": "stdout",
     "output_type": "stream",
     "text": [
      "Ambati\n",
      "MSD\n",
      "Rutu\n",
      "Devon\n"
     ]
    }
   ],
   "source": [
    "for _ in st2:\n",
    "    print(_)"
   ]
  },
  {
   "cell_type": "code",
   "execution_count": 35,
   "id": "ec443630",
   "metadata": {
    "scrolled": false
   },
   "outputs": [
    {
     "ename": "TypeError",
     "evalue": "'set' object is not subscriptable",
     "output_type": "error",
     "traceback": [
      "\u001b[1;31m---------------------------------------------------------------------------\u001b[0m",
      "\u001b[1;31mTypeError\u001b[0m                                 Traceback (most recent call last)",
      "Cell \u001b[1;32mIn[35], line 2\u001b[0m\n\u001b[0;32m      1\u001b[0m \u001b[38;5;66;03m#indexing   set does not support indexing \u001b[39;00m\n\u001b[1;32m----> 2\u001b[0m st2[\u001b[38;5;241m0\u001b[39m]\n\u001b[0;32m      3\u001b[0m st2[\u001b[38;5;124m\"\u001b[39m\u001b[38;5;124mMSD\u001b[39m\u001b[38;5;124m\"\u001b[39m]\n",
      "\u001b[1;31mTypeError\u001b[0m: 'set' object is not subscriptable"
     ]
    }
   ],
   "source": [
    "#indexing   set does not support indexing \n",
    "# st2[0]\n",
    "# st2[\"MSD\"]"
   ]
  },
  {
   "cell_type": "code",
   "execution_count": 36,
   "id": "e9b3d805",
   "metadata": {},
   "outputs": [
    {
     "name": "stdout",
     "output_type": "stream",
     "text": [
      "{'Jaddu', 'Devon', 'Rutu', 'Ambati', 'MSD'}\n"
     ]
    }
   ],
   "source": [
    "# Inbuilt functions in sets\n",
    "st2.add(\"Jaddu\")\n",
    "print(st2)"
   ]
  },
  {
   "cell_type": "code",
   "execution_count": 37,
   "id": "7c539aba",
   "metadata": {},
   "outputs": [
    {
     "data": {
      "text/plain": [
       "{1, 'Ambati', 'Devon', 'Jaddu', 'MSD', 'Rutu'}"
      ]
     },
     "execution_count": 37,
     "metadata": {},
     "output_type": "execute_result"
    }
   ],
   "source": [
    "st2.add(1)\n",
    "st2"
   ]
  },
  {
   "cell_type": "code",
   "execution_count": 38,
   "id": "4631e6d9",
   "metadata": {},
   "outputs": [
    {
     "data": {
      "text/plain": [
       "{1, 2, 'Ambati', 'Devon', 'Jaddu', 'MSD', 'Rutu'}"
      ]
     },
     "execution_count": 38,
     "metadata": {},
     "output_type": "execute_result"
    }
   ],
   "source": [
    "st2.add(2)\n",
    "st2"
   ]
  },
  {
   "cell_type": "code",
   "execution_count": 39,
   "id": "f62f3d5c",
   "metadata": {},
   "outputs": [
    {
     "data": {
      "text/plain": [
       "{1, 2, 'Ambati', 'Devon', 'Jaddu', 'MSD', 'Rutu'}"
      ]
     },
     "execution_count": 39,
     "metadata": {},
     "output_type": "execute_result"
    }
   ],
   "source": [
    "st1=st2\n",
    "st1"
   ]
  },
  {
   "cell_type": "code",
   "execution_count": 40,
   "id": "83353e0c",
   "metadata": {},
   "outputs": [],
   "source": [
    "st1.remove(1) #Remove an element from a set; it must be a member."
   ]
  },
  {
   "cell_type": "code",
   "execution_count": 41,
   "id": "247c9f31",
   "metadata": {},
   "outputs": [
    {
     "data": {
      "text/plain": [
       "set()"
      ]
     },
     "execution_count": 41,
     "metadata": {},
     "output_type": "execute_result"
    }
   ],
   "source": [
    "st2.difference(st1)"
   ]
  },
  {
   "cell_type": "code",
   "execution_count": 42,
   "id": "cb8f330d",
   "metadata": {},
   "outputs": [
    {
     "data": {
      "text/plain": [
       "{2, 'Ambati', 'Devon', 'Jaddu', 'MSD', 'Rutu'}"
      ]
     },
     "execution_count": 42,
     "metadata": {},
     "output_type": "execute_result"
    }
   ],
   "source": [
    "st3={1,3}\n",
    "st2.difference(st3)"
   ]
  },
  {
   "cell_type": "code",
   "execution_count": 48,
   "id": "a94dab0f",
   "metadata": {},
   "outputs": [],
   "source": [
    "a={1,2,3}\n",
    "b={4,5,3}\n",
    "c={1}\n",
    "d={7,8}"
   ]
  },
  {
   "cell_type": "code",
   "execution_count": 44,
   "id": "df8f7dae",
   "metadata": {},
   "outputs": [
    {
     "data": {
      "text/plain": [
       "{4, 5}"
      ]
     },
     "execution_count": 44,
     "metadata": {},
     "output_type": "execute_result"
    }
   ],
   "source": [
    "b.difference(a)"
   ]
  },
  {
   "cell_type": "code",
   "execution_count": 46,
   "id": "cd862c21",
   "metadata": {},
   "outputs": [
    {
     "data": {
      "text/plain": [
       "{3}"
      ]
     },
     "execution_count": 46,
     "metadata": {},
     "output_type": "execute_result"
    }
   ],
   "source": [
    "a.intersection(b)"
   ]
  },
  {
   "cell_type": "code",
   "execution_count": 47,
   "id": "fe0503ad",
   "metadata": {},
   "outputs": [
    {
     "data": {
      "text/plain": [
       "{1, 2, 3, 4, 5}"
      ]
     },
     "execution_count": 47,
     "metadata": {},
     "output_type": "execute_result"
    }
   ],
   "source": [
    "a.union(b)"
   ]
  },
  {
   "cell_type": "code",
   "execution_count": 49,
   "id": "8dffced0",
   "metadata": {},
   "outputs": [
    {
     "data": {
      "text/plain": [
       "True"
      ]
     },
     "execution_count": 49,
     "metadata": {},
     "output_type": "execute_result"
    }
   ],
   "source": [
    "a.isdisjoint(d)"
   ]
  },
  {
   "cell_type": "code",
   "execution_count": 50,
   "id": "619e11c6",
   "metadata": {},
   "outputs": [
    {
     "data": {
      "text/plain": [
       "{7, 8}"
      ]
     },
     "execution_count": 50,
     "metadata": {},
     "output_type": "execute_result"
    }
   ],
   "source": [
    "d"
   ]
  },
  {
   "cell_type": "code",
   "execution_count": 51,
   "id": "11e01dea",
   "metadata": {},
   "outputs": [
    {
     "data": {
      "text/plain": [
       "set()"
      ]
     },
     "execution_count": 51,
     "metadata": {},
     "output_type": "execute_result"
    }
   ],
   "source": [
    "d.clear()\n",
    "d"
   ]
  },
  {
   "cell_type": "code",
   "execution_count": 52,
   "id": "763c0f16",
   "metadata": {},
   "outputs": [
    {
     "data": {
      "text/plain": [
       "{8}"
      ]
     },
     "execution_count": 52,
     "metadata": {},
     "output_type": "execute_result"
    }
   ],
   "source": [
    "d={7,8}\n",
    "d.discard(7)\n",
    "d"
   ]
  },
  {
   "cell_type": "code",
   "execution_count": 54,
   "id": "34a92bad",
   "metadata": {},
   "outputs": [
    {
     "data": {
      "text/plain": [
       "{6, 7, 8}"
      ]
     },
     "execution_count": 54,
     "metadata": {},
     "output_type": "execute_result"
    }
   ],
   "source": [
    "d.add(7)\n",
    "d.add(6)\n",
    "d"
   ]
  },
  {
   "cell_type": "code",
   "execution_count": 55,
   "id": "3b173a1e",
   "metadata": {},
   "outputs": [
    {
     "data": {
      "text/plain": [
       "{6, 7}"
      ]
     },
     "execution_count": 55,
     "metadata": {},
     "output_type": "execute_result"
    }
   ],
   "source": [
    "d.intersection_update({6,7}) # Update a set with the intersection of itself and another.\n",
    "d"
   ]
  },
  {
   "cell_type": "code",
   "execution_count": 57,
   "id": "90400b50",
   "metadata": {},
   "outputs": [
    {
     "data": {
      "text/plain": [
       "False"
      ]
     },
     "execution_count": 57,
     "metadata": {},
     "output_type": "execute_result"
    }
   ],
   "source": [
    "d.issubset(b)  #Report whether another set contains this set b"
   ]
  },
  {
   "cell_type": "code",
   "execution_count": 58,
   "id": "06279407",
   "metadata": {
    "scrolled": true
   },
   "outputs": [
    {
     "data": {
      "text/plain": [
       "True"
      ]
     },
     "execution_count": 58,
     "metadata": {},
     "output_type": "execute_result"
    }
   ],
   "source": [
    "d.issubset({7,6,8})"
   ]
  },
  {
   "cell_type": "markdown",
   "id": "0797e0d5",
   "metadata": {},
   "source": [
    "## Dictionaries  Dict { }\n",
    "\n",
    "   - collection which is ordered , changeable and indexed \n",
    "   - Keys and Values"
   ]
  },
  {
   "cell_type": "code",
   "execution_count": 59,
   "id": "dafca950",
   "metadata": {},
   "outputs": [],
   "source": [
    "dic={}"
   ]
  },
  {
   "cell_type": "code",
   "execution_count": 60,
   "id": "4124e16e",
   "metadata": {},
   "outputs": [
    {
     "data": {
      "text/plain": [
       "dict"
      ]
     },
     "execution_count": 60,
     "metadata": {},
     "output_type": "execute_result"
    }
   ],
   "source": [
    "type(dic)"
   ]
  },
  {
   "cell_type": "code",
   "execution_count": 62,
   "id": "5ff99c5d",
   "metadata": {},
   "outputs": [
    {
     "data": {
      "text/plain": [
       "set"
      ]
     },
     "execution_count": 62,
     "metadata": {},
     "output_type": "execute_result"
    }
   ],
   "source": [
    "dic={1,2,3,4}  #####Note \n",
    "type(dic)"
   ]
  },
  {
   "cell_type": "code",
   "execution_count": 63,
   "id": "d2c46333",
   "metadata": {},
   "outputs": [
    {
     "data": {
      "text/plain": [
       "dict"
      ]
     },
     "execution_count": 63,
     "metadata": {},
     "output_type": "execute_result"
    }
   ],
   "source": [
    "## Let's create dictionary \n",
    "dic1={\"p1\":\"Rutu\",\"p2\":\"Devon\",\"p3\":\"Rachin\",\"p4\":\"Moeen\"}\n",
    "type(dic1)"
   ]
  },
  {
   "cell_type": "code",
   "execution_count": 67,
   "id": "f70a01c8",
   "metadata": {},
   "outputs": [
    {
     "data": {
      "text/plain": [
       "'Rutu'"
      ]
     },
     "execution_count": 67,
     "metadata": {},
     "output_type": "execute_result"
    }
   ],
   "source": [
    "## accessing values using keys\n",
    "dic1['p1']"
   ]
  },
  {
   "cell_type": "code",
   "execution_count": 68,
   "id": "b0a8d6e4",
   "metadata": {},
   "outputs": [
    {
     "name": "stdout",
     "output_type": "stream",
     "text": [
      "p1 p2 p3 p4 "
     ]
    }
   ],
   "source": [
    "#looping through dict keys\n",
    "for _ in dic1:\n",
    "    print(_,end=' ')"
   ]
  },
  {
   "cell_type": "code",
   "execution_count": 70,
   "id": "20da4e9b",
   "metadata": {},
   "outputs": [
    {
     "name": "stdout",
     "output_type": "stream",
     "text": [
      "Rutu Devon Rachin Moeen "
     ]
    }
   ],
   "source": [
    "#looping through dict values\n",
    "for _ in dic1.values():\n",
    "    print(_,end=' ')"
   ]
  },
  {
   "cell_type": "code",
   "execution_count": 71,
   "id": "6ca56bc7",
   "metadata": {},
   "outputs": [
    {
     "name": "stdout",
     "output_type": "stream",
     "text": [
      "('p1', 'Rutu') ('p2', 'Devon') ('p3', 'Rachin') ('p4', 'Moeen') "
     ]
    }
   ],
   "source": [
    "#looping through both key and values\n",
    "for _ in dic1.items():\n",
    "    print(_,end=' ')"
   ]
  },
  {
   "cell_type": "code",
   "execution_count": 72,
   "id": "4f52a363",
   "metadata": {},
   "outputs": [
    {
     "data": {
      "text/plain": [
       "{'p1': 'Rutu', 'p2': 'Devon', 'p3': 'Rachin', 'p4': 'Moeen', 'p5': 'Dube'}"
      ]
     },
     "execution_count": 72,
     "metadata": {},
     "output_type": "execute_result"
    }
   ],
   "source": [
    "##adding new key-value pair\n",
    "dic1[\"p5\"]=\"Dube\"\n",
    "dic1"
   ]
  },
  {
   "cell_type": "code",
   "execution_count": 74,
   "id": "62e187de",
   "metadata": {},
   "outputs": [
    {
     "name": "stdout",
     "output_type": "stream",
     "text": [
      "Rutu|Devon|Rachin|Moeen|Dube|"
     ]
    }
   ],
   "source": [
    "for x in dic1.items():\n",
    "    print(x[1],end='|')"
   ]
  },
  {
   "cell_type": "code",
   "execution_count": 75,
   "id": "87a3b719",
   "metadata": {},
   "outputs": [
    {
     "data": {
      "text/plain": [
       "{'p1': 'Rutu', 'p2': 'Devon', 'p3': 'Derryl', 'p4': 'Moeen', 'p5': 'Dube'}"
      ]
     },
     "execution_count": 75,
     "metadata": {},
     "output_type": "execute_result"
    }
   ],
   "source": [
    "##update value\n",
    "dic1['p3']='Derryl'\n",
    "dic1"
   ]
  },
  {
   "cell_type": "markdown",
   "id": "dc031c01",
   "metadata": {},
   "source": [
    "## Nested Dictionary "
   ]
  },
  {
   "cell_type": "code",
   "execution_count": 76,
   "id": "fe15d4ca",
   "metadata": {},
   "outputs": [],
   "source": [
    "csk={\"p1\":\"Rutu\",\"p2\":\"Devon\",\"p3\":\"Rachin\"}\n",
    "mi={\"p1\":\"Ro\",\"p2\":\"Marsh\",\"p3\":\"Surya\"}\n",
    "rcb={\"p1\":\"Virat\",\"p2\":\"Faf\",\"p3\":\"Patidar\"}\n",
    "order={\"CSK\":csk,\"MI\":mi,\"RCB\":rcb}"
   ]
  },
  {
   "cell_type": "code",
   "execution_count": 77,
   "id": "26fdd8d5",
   "metadata": {},
   "outputs": [
    {
     "name": "stdout",
     "output_type": "stream",
     "text": [
      "{'CSK': {'p1': 'Rutu', 'p2': 'Devon', 'p3': 'Rachin'}, 'MI': {'p1': 'Ro', 'p2': 'Marsh', 'p3': 'Surya'}, 'RCB': {'p1': 'Virat', 'p2': 'Faf', 'p3': 'Patidar'}}\n"
     ]
    }
   ],
   "source": [
    "print(order)"
   ]
  },
  {
   "cell_type": "code",
   "execution_count": 78,
   "id": "c561093e",
   "metadata": {},
   "outputs": [
    {
     "name": "stdout",
     "output_type": "stream",
     "text": [
      "CSK\n",
      "MI\n",
      "RCB\n"
     ]
    }
   ],
   "source": [
    "for x in order:\n",
    "    print(x)"
   ]
  },
  {
   "cell_type": "code",
   "execution_count": 79,
   "id": "d44ff604",
   "metadata": {},
   "outputs": [
    {
     "name": "stdout",
     "output_type": "stream",
     "text": [
      "{'p1': 'Rutu', 'p2': 'Devon', 'p3': 'Rachin'}\n"
     ]
    }
   ],
   "source": [
    "print(order[\"CSK\"])"
   ]
  },
  {
   "cell_type": "code",
   "execution_count": 80,
   "id": "e60d7ccd",
   "metadata": {},
   "outputs": [
    {
     "name": "stdout",
     "output_type": "stream",
     "text": [
      "Devon\n"
     ]
    }
   ],
   "source": [
    "print(order[\"CSK\"][\"p2\"])"
   ]
  },
  {
   "cell_type": "code",
   "execution_count": 85,
   "id": "5e9bd619",
   "metadata": {},
   "outputs": [
    {
     "name": "stdout",
     "output_type": "stream",
     "text": [
      "Batting order of CSK is:\n",
      "p1 - Rutu\n",
      "p2 - Devon\n",
      "p3 - Rachin\n",
      "Batting order of MI is:\n",
      "p1 - Ro\n",
      "p2 - Marsh\n",
      "p3 - Surya\n",
      "Batting order of RCB is:\n",
      "p1 - Virat\n",
      "p2 - Faf\n",
      "p3 - Patidar\n"
     ]
    }
   ],
   "source": [
    "for x in  order.items():\n",
    "    print(\"Batting order of {} is:\".format(x[0]))\n",
    "    for y in x[1].items():\n",
    "         print(\"{} - {}\".format(y[0],y[1]))"
   ]
  },
  {
   "cell_type": "markdown",
   "id": "431c5cb2",
   "metadata": {},
   "source": [
    "## Tuples  ( )\n",
    "\n",
    " - immutable"
   ]
  },
  {
   "cell_type": "code",
   "execution_count": 86,
   "id": "a174c389",
   "metadata": {},
   "outputs": [],
   "source": [
    "tup=tuple()"
   ]
  },
  {
   "cell_type": "code",
   "execution_count": 87,
   "id": "562a183c",
   "metadata": {},
   "outputs": [
    {
     "data": {
      "text/plain": [
       "tuple"
      ]
     },
     "execution_count": 87,
     "metadata": {},
     "output_type": "execute_result"
    }
   ],
   "source": [
    "type(tup)"
   ]
  },
  {
   "cell_type": "code",
   "execution_count": 88,
   "id": "71b2a912",
   "metadata": {},
   "outputs": [
    {
     "data": {
      "text/plain": [
       "(1, 2, 'anna')"
      ]
     },
     "execution_count": 88,
     "metadata": {},
     "output_type": "execute_result"
    }
   ],
   "source": [
    "tup1=(1,2,\"anna\")\n",
    "tup1"
   ]
  },
  {
   "cell_type": "code",
   "execution_count": 89,
   "id": "aaf44561",
   "metadata": {},
   "outputs": [
    {
     "data": {
      "text/plain": [
       "tuple"
      ]
     },
     "execution_count": 89,
     "metadata": {},
     "output_type": "execute_result"
    }
   ],
   "source": [
    "type(tup1)"
   ]
  },
  {
   "cell_type": "code",
   "execution_count": 91,
   "id": "f8778bde",
   "metadata": {},
   "outputs": [],
   "source": [
    "#tup1[0]=2 changing this will not work"
   ]
  },
  {
   "cell_type": "code",
   "execution_count": 93,
   "id": "5d21ed5b",
   "metadata": {},
   "outputs": [
    {
     "data": {
      "text/plain": [
       "(3, 4, 'Anni', 4, 4, 4)"
      ]
     },
     "execution_count": 93,
     "metadata": {},
     "output_type": "execute_result"
    }
   ],
   "source": [
    "tup1=(3,4,\"Anni\",4,4,4) #This will work replacing\n",
    "tup1"
   ]
  },
  {
   "cell_type": "code",
   "execution_count": 94,
   "id": "54f13748",
   "metadata": {},
   "outputs": [
    {
     "data": {
      "text/plain": [
       "4"
      ]
     },
     "execution_count": 94,
     "metadata": {},
     "output_type": "execute_result"
    }
   ],
   "source": [
    "##Inbuilt functions\n",
    "tup1.count(4) #number of time 4 got repeated"
   ]
  },
  {
   "cell_type": "code",
   "execution_count": 95,
   "id": "9340c91a",
   "metadata": {},
   "outputs": [
    {
     "data": {
      "text/plain": [
       "1"
      ]
     },
     "execution_count": 95,
     "metadata": {},
     "output_type": "execute_result"
    }
   ],
   "source": [
    "tup1.index(4) #Return first index of value."
   ]
  }
 ],
 "metadata": {
  "kernelspec": {
   "display_name": "Python 3 (ipykernel)",
   "language": "python",
   "name": "python3"
  },
  "language_info": {
   "codemirror_mode": {
    "name": "ipython",
    "version": 3
   },
   "file_extension": ".py",
   "mimetype": "text/x-python",
   "name": "python",
   "nbconvert_exporter": "python",
   "pygments_lexer": "ipython3",
   "version": "3.11.5"
  }
 },
 "nbformat": 4,
 "nbformat_minor": 5
}
